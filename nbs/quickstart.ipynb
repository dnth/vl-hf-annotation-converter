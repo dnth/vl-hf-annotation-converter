{
 "cells": [
  {
   "cell_type": "markdown",
   "metadata": {},
   "source": [
    "## Install AutoTrain"
   ]
  },
  {
   "cell_type": "code",
   "execution_count": null,
   "metadata": {},
   "outputs": [],
   "source": [
    "!pip install -Uqq autotrain-advanced"
   ]
  },
  {
   "cell_type": "markdown",
   "metadata": {},
   "source": [
    "## Export your Hugging Face credentials"
   ]
  },
  {
   "cell_type": "code",
   "execution_count": null,
   "metadata": {},
   "outputs": [],
   "source": [
    "import os\n",
    "os.environ[\"HF_TOKEN\"] = \"hf_XXX\"\n",
    "os.environ[\"HF_USERNAME\"] = \"abc\""
   ]
  },
  {
   "cell_type": "markdown",
   "metadata": {},
   "source": [
    "## Run AutoTrain"
   ]
  },
  {
   "cell_type": "code",
   "execution_count": null,
   "metadata": {},
   "outputs": [],
   "source": [
    "!git clone https://github.com/dnth/vl-hf-annotation-converter\n",
    "!cd vl-hf-annotation-converter && autotrain --config configs/detr-resnet-50.yml"
   ]
  },
  {
   "cell_type": "code",
   "execution_count": null,
   "metadata": {},
   "outputs": [],
   "source": [
    "import matplotlib.patches as patches\n",
    "import matplotlib.pyplot as plt\n",
    "import torch\n",
    "from PIL import Image\n",
    "from transformers import DetrForObjectDetection, DetrImageProcessor\n",
    "\n",
    "# Load image\n",
    "image = Image.open(\"vl-hf-annotation-converter/data/train/006251_jpg.rf.a583fbabac5449aa982bb8246c4d849c.jpg\")\n",
    "\n",
    "model_name = \"./vl-hf-annotation-converter/autotrain-detr-resnet-50\"\n",
    "processor = DetrImageProcessor.from_pretrained(model_name)\n",
    "model = DetrForObjectDetection.from_pretrained(model_name)\n",
    "\n",
    "# Prepare inputs\n",
    "inputs = processor(images=image, return_tensors=\"pt\")\n",
    "\n",
    "# Run inference\n",
    "outputs = model(**inputs)\n",
    "\n",
    "# Post-process outputs\n",
    "target_sizes = torch.tensor([image.size[::-1]])\n",
    "results = processor.post_process_object_detection(\n",
    "    outputs, target_sizes=target_sizes, threshold=0.70\n",
    ")[0]\n",
    "\n",
    "# Create figure and axes\n",
    "fig, ax = plt.subplots(1)\n",
    "ax.imshow(image)\n",
    "\n",
    "# Draw bounding boxes\n",
    "for score, label, box in zip(results[\"scores\"], results[\"labels\"], results[\"boxes\"]):\n",
    "    box = [round(i, 2) for i in box.tolist()]\n",
    "\n",
    "    # Create a Rectangle patch\n",
    "    rect = patches.Rectangle(\n",
    "        (box[0], box[1]),\n",
    "        box[2] - box[0],\n",
    "        box[3] - box[1],\n",
    "        linewidth=2,\n",
    "        edgecolor=\"r\",\n",
    "        facecolor=\"none\",\n",
    "    )\n",
    "\n",
    "    # Add the rectangle to the plot\n",
    "    ax.add_patch(rect)\n",
    "\n",
    "    # Add label and score\n",
    "    plt.text(\n",
    "        box[0],\n",
    "        box[1] - 5,\n",
    "        f\"{model.config.id2label[label.item()]}: {round(score.item(), 3)}\",\n",
    "        color=\"red\",\n",
    "        fontsize=8,\n",
    "        bbox=dict(facecolor=\"white\", alpha=0.8),\n",
    "    )\n",
    "\n",
    "# Remove axes\n",
    "plt.axis(\"off\")\n",
    "\n",
    "# Show the plot\n",
    "plt.show()\n",
    "\n",
    "# Print results\n",
    "for score, label, box in zip(results[\"scores\"], results[\"labels\"], results[\"boxes\"]):\n",
    "    box = [round(i, 2) for i in box.tolist()]\n",
    "    print(\n",
    "        f\"Detected {model.config.id2label[label.item()]} with confidence {round(score.item(), 3)} at location {box}\"\n",
    "    )\n"
   ]
  }
 ],
 "metadata": {
  "language_info": {
   "name": "python"
  }
 },
 "nbformat": 4,
 "nbformat_minor": 2
}
