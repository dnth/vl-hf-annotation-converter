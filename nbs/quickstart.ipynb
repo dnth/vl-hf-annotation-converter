{
 "cells": [
  {
   "cell_type": "code",
   "execution_count": null,
   "metadata": {},
   "outputs": [],
   "source": [
    "!pip install autotrain-advanced"
   ]
  },
  {
   "cell_type": "code",
   "execution_count": null,
   "metadata": {},
   "outputs": [],
   "source": [
    "%shell\n",
    "\n",
    "export HF_USERNAME=your_hugging_face_username\n",
    "export HF_TOKEN=your_hugging_face_write_token"
   ]
  },
  {
   "cell_type": "code",
   "execution_count": null,
   "metadata": {},
   "outputs": [],
   "source": [
    "!git clone https://github.com/dnth/vl-hf-annotation-converter\n",
    "!cd vl-hf-annotation-converter && autotrain --config configs/detr-resnet-50.yml"
   ]
  }
 ],
 "metadata": {
  "language_info": {
   "name": "python"
  }
 },
 "nbformat": 4,
 "nbformat_minor": 2
}
